{
 "cells": [
  {
   "cell_type": "code",
   "execution_count": 1,
   "metadata": {},
   "outputs": [],
   "source": [
    "import torch\n",
    "from d2l import torch as d2l"
   ]
  },
  {
   "cell_type": "code",
   "execution_count": 5,
   "metadata": {},
   "outputs": [
    {
     "data": {
      "text/plain": [
       "tensor([[[0.6692, 0.4053, 0.5471,  ..., 0.5021, 0.8395, 0.3319],\n",
       "         [0.0148, 0.0245, 0.1690,  ..., 0.6408, 0.8253, 0.6813]],\n",
       "\n",
       "        [[0.7581, 0.7473, 0.4676,  ..., 0.5060, 0.0406, 0.6163],\n",
       "         [0.4674, 0.2797, 0.6965,  ..., 0.9519, 0.3399, 0.2134]],\n",
       "\n",
       "        [[0.9031, 0.6858, 0.4186,  ..., 0.5504, 0.5732, 0.4128],\n",
       "         [0.4092, 0.8581, 0.2814,  ..., 0.0904, 0.9947, 0.2355]]])"
      ]
     },
     "execution_count": 5,
     "metadata": {},
     "output_type": "execute_result"
    }
   ],
   "source": [
    "torch.rand(3, 2, 300)"
   ]
  },
  {
   "cell_type": "code",
   "execution_count": null,
   "metadata": {},
   "outputs": [],
   "source": []
  }
 ],
 "metadata": {
  "kernelspec": {
   "display_name": "d2l_pytorch",
   "language": "python",
   "name": "d2l_pytorch"
  },
  "language_info": {
   "codemirror_mode": {
    "name": "ipython",
    "version": 3
   },
   "file_extension": ".py",
   "mimetype": "text/x-python",
   "name": "python",
   "nbconvert_exporter": "python",
   "pygments_lexer": "ipython3",
   "version": "3.10.11"
  },
  "orig_nbformat": 4
 },
 "nbformat": 4,
 "nbformat_minor": 2
}
