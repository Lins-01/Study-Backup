{
 "cells": [
  {
   "cell_type": "code",
   "execution_count": 5,
   "metadata": {},
   "outputs": [],
   "source": [
    "# 在jupyter中显示图像\n",
    "%matplotlib inline  \n",
    "import random\n",
    "import torch\n",
    "from d2l import torch as d2l"
   ]
  },
  {
   "attachments": {},
   "cell_type": "markdown",
   "metadata": {},
   "source": [
    "## 生成数据集\n",
    "\n",
    "自己制作一个数据集\n",
    "\n",
    "(**我们使用线性模型参数$\\mathbf{w} = [2, -3.4]^\\top$、$b = 4.2$\n",
    "和噪声项$\\epsilon$生成数据集及其标签：\n",
    "\n",
    "$$\\mathbf{y}= \\mathbf{X} \\mathbf{w} + b + \\mathbf\\epsilon.$$\n",
    "**)\n",
    "\n",
    "$\\epsilon$可以视为模型预测和标签时的潜在观测误差。\n",
    "\n"
   ]
  },
  {
   "cell_type": "code",
   "execution_count": 10,
   "metadata": {},
   "outputs": [],
   "source": [
    "def sysnthetic_data(w,b,num_examples):\n",
    "    \"\"\"生成y=Xw+b+噪声\"\"\"\n",
    "    # torch.normal(均值，标准差，形状)\n",
    "    # 均值为0，标准差为1，服从正态分布，形状为num_examples行，len(w)列\n",
    "    X=torch.normal(0,1,(num_examples,len(w)))\n",
    "    # torch.matmul矩阵相乘与torch.mm矩阵相乘的区别是\n",
    "    # 前者可以进行广播，后者要满足矩阵乘法唯独要求，一般用前者\n",
    "    y=torch.matmul(X,w)+b\n",
    "    # 生成噪音\n",
    "    # 随机生成一个形状为y.shape的张量，服从正态分布，均值为0，标准差为0.01\n",
    "    y+=torch.normal(0,0.01,y.shape)\n",
    "\n",
    "    # print(y[0],y.shape)\n",
    "    # print(y[0].reshape((-1,1)),y.reshape((-1,1)).shape)\n",
    "\n",
    "    # 弄成一个元组返回，方便后面的函数调用\n",
    "    # 返回一个元组，元组中有两个元素，第一个元素是X，第二个元素是y\n",
    "\n",
    "    # y为什么要reshape((-1,1))？\n",
    "    # 因为后面的函数要求y的形状为num_examples行，1列\n",
    "   \n",
    "    # reshape((-1,1))表示行数不确定，列数为1\n",
    "    return X,y.reshape((-1,1))\n",
    "\n",
    "# test function\n",
    "# inputs,outputs=sysnthetic_data(torch.tensor([2,-3.4]),5,1000)\n"
   ]
  },
  {
   "cell_type": "code",
   "execution_count": 11,
   "metadata": {},
   "outputs": [],
   "source": [
    "true_w = torch.tensor([2,-3.4])\n",
    "true_b = 4.2\n",
    "features,labels = sysnthetic_data(true_w,true_b,1000)"
   ]
  },
  {
   "attachments": {},
   "cell_type": "markdown",
   "metadata": {},
   "source": [
    "注意，[**`features`中的每一行都包含一个二维数据样本，\n",
    "`labels`中的每一行都包含一维标签值（一个标量）**]。"
   ]
  },
  {
   "attachments": {},
   "cell_type": "markdown",
   "metadata": {},
   "source": [
    "## 读取数据集\n",
    "\n",
    "在下面的代码中，我们[**定义一个`data_iter`函数，\n",
    "该函数接收批量大小、特征矩阵和标签向量作为输入，生成大小为`batch_size`的小批量，且做shuffle**]。\n",
    "每个小批量包含一组特征和标签。"
   ]
  },
  {
   "cell_type": "code",
   "execution_count": 13,
   "metadata": {},
   "outputs": [
    {
     "name": "stdout",
     "output_type": "stream",
     "text": [
      "range(0, 1000)\n",
      "[0, 1, 2, 3, 4, 5, 6, 7, 8, 9, 10, 11, 12, 13, 14, 15, 16, 17, 18, 19, 20, 21, 22, 23, 24, 25, 26, 27, 28, 29, 30, 31, 32, 33, 34, 35, 36, 37, 38, 39, 40, 41, 42, 43, 44, 45, 46, 47, 48, 49, 50, 51, 52, 53, 54, 55, 56, 57, 58, 59, 60, 61, 62, 63, 64, 65, 66, 67, 68, 69, 70, 71, 72, 73, 74, 75, 76, 77, 78, 79, 80, 81, 82, 83, 84, 85, 86, 87, 88, 89, 90, 91, 92, 93, 94, 95, 96, 97, 98, 99, 100, 101, 102, 103, 104, 105, 106, 107, 108, 109, 110, 111, 112, 113, 114, 115, 116, 117, 118, 119, 120, 121, 122, 123, 124, 125, 126, 127, 128, 129, 130, 131, 132, 133, 134, 135, 136, 137, 138, 139, 140, 141, 142, 143, 144, 145, 146, 147, 148, 149, 150, 151, 152, 153, 154, 155, 156, 157, 158, 159, 160, 161, 162, 163, 164, 165, 166, 167, 168, 169, 170, 171, 172, 173, 174, 175, 176, 177, 178, 179, 180, 181, 182, 183, 184, 185, 186, 187, 188, 189, 190, 191, 192, 193, 194, 195, 196, 197, 198, 199, 200, 201, 202, 203, 204, 205, 206, 207, 208, 209, 210, 211, 212, 213, 214, 215, 216, 217, 218, 219, 220, 221, 222, 223, 224, 225, 226, 227, 228, 229, 230, 231, 232, 233, 234, 235, 236, 237, 238, 239, 240, 241, 242, 243, 244, 245, 246, 247, 248, 249, 250, 251, 252, 253, 254, 255, 256, 257, 258, 259, 260, 261, 262, 263, 264, 265, 266, 267, 268, 269, 270, 271, 272, 273, 274, 275, 276, 277, 278, 279, 280, 281, 282, 283, 284, 285, 286, 287, 288, 289, 290, 291, 292, 293, 294, 295, 296, 297, 298, 299, 300, 301, 302, 303, 304, 305, 306, 307, 308, 309, 310, 311, 312, 313, 314, 315, 316, 317, 318, 319, 320, 321, 322, 323, 324, 325, 326, 327, 328, 329, 330, 331, 332, 333, 334, 335, 336, 337, 338, 339, 340, 341, 342, 343, 344, 345, 346, 347, 348, 349, 350, 351, 352, 353, 354, 355, 356, 357, 358, 359, 360, 361, 362, 363, 364, 365, 366, 367, 368, 369, 370, 371, 372, 373, 374, 375, 376, 377, 378, 379, 380, 381, 382, 383, 384, 385, 386, 387, 388, 389, 390, 391, 392, 393, 394, 395, 396, 397, 398, 399, 400, 401, 402, 403, 404, 405, 406, 407, 408, 409, 410, 411, 412, 413, 414, 415, 416, 417, 418, 419, 420, 421, 422, 423, 424, 425, 426, 427, 428, 429, 430, 431, 432, 433, 434, 435, 436, 437, 438, 439, 440, 441, 442, 443, 444, 445, 446, 447, 448, 449, 450, 451, 452, 453, 454, 455, 456, 457, 458, 459, 460, 461, 462, 463, 464, 465, 466, 467, 468, 469, 470, 471, 472, 473, 474, 475, 476, 477, 478, 479, 480, 481, 482, 483, 484, 485, 486, 487, 488, 489, 490, 491, 492, 493, 494, 495, 496, 497, 498, 499, 500, 501, 502, 503, 504, 505, 506, 507, 508, 509, 510, 511, 512, 513, 514, 515, 516, 517, 518, 519, 520, 521, 522, 523, 524, 525, 526, 527, 528, 529, 530, 531, 532, 533, 534, 535, 536, 537, 538, 539, 540, 541, 542, 543, 544, 545, 546, 547, 548, 549, 550, 551, 552, 553, 554, 555, 556, 557, 558, 559, 560, 561, 562, 563, 564, 565, 566, 567, 568, 569, 570, 571, 572, 573, 574, 575, 576, 577, 578, 579, 580, 581, 582, 583, 584, 585, 586, 587, 588, 589, 590, 591, 592, 593, 594, 595, 596, 597, 598, 599, 600, 601, 602, 603, 604, 605, 606, 607, 608, 609, 610, 611, 612, 613, 614, 615, 616, 617, 618, 619, 620, 621, 622, 623, 624, 625, 626, 627, 628, 629, 630, 631, 632, 633, 634, 635, 636, 637, 638, 639, 640, 641, 642, 643, 644, 645, 646, 647, 648, 649, 650, 651, 652, 653, 654, 655, 656, 657, 658, 659, 660, 661, 662, 663, 664, 665, 666, 667, 668, 669, 670, 671, 672, 673, 674, 675, 676, 677, 678, 679, 680, 681, 682, 683, 684, 685, 686, 687, 688, 689, 690, 691, 692, 693, 694, 695, 696, 697, 698, 699, 700, 701, 702, 703, 704, 705, 706, 707, 708, 709, 710, 711, 712, 713, 714, 715, 716, 717, 718, 719, 720, 721, 722, 723, 724, 725, 726, 727, 728, 729, 730, 731, 732, 733, 734, 735, 736, 737, 738, 739, 740, 741, 742, 743, 744, 745, 746, 747, 748, 749, 750, 751, 752, 753, 754, 755, 756, 757, 758, 759, 760, 761, 762, 763, 764, 765, 766, 767, 768, 769, 770, 771, 772, 773, 774, 775, 776, 777, 778, 779, 780, 781, 782, 783, 784, 785, 786, 787, 788, 789, 790, 791, 792, 793, 794, 795, 796, 797, 798, 799, 800, 801, 802, 803, 804, 805, 806, 807, 808, 809, 810, 811, 812, 813, 814, 815, 816, 817, 818, 819, 820, 821, 822, 823, 824, 825, 826, 827, 828, 829, 830, 831, 832, 833, 834, 835, 836, 837, 838, 839, 840, 841, 842, 843, 844, 845, 846, 847, 848, 849, 850, 851, 852, 853, 854, 855, 856, 857, 858, 859, 860, 861, 862, 863, 864, 865, 866, 867, 868, 869, 870, 871, 872, 873, 874, 875, 876, 877, 878, 879, 880, 881, 882, 883, 884, 885, 886, 887, 888, 889, 890, 891, 892, 893, 894, 895, 896, 897, 898, 899, 900, 901, 902, 903, 904, 905, 906, 907, 908, 909, 910, 911, 912, 913, 914, 915, 916, 917, 918, 919, 920, 921, 922, 923, 924, 925, 926, 927, 928, 929, 930, 931, 932, 933, 934, 935, 936, 937, 938, 939, 940, 941, 942, 943, 944, 945, 946, 947, 948, 949, 950, 951, 952, 953, 954, 955, 956, 957, 958, 959, 960, 961, 962, 963, 964, 965, 966, 967, 968, 969, 970, 971, 972, 973, 974, 975, 976, 977, 978, 979, 980, 981, 982, 983, 984, 985, 986, 987, 988, 989, 990, 991, 992, 993, 994, 995, 996, 997, 998, 999]\n"
     ]
    }
   ],
   "source": [
    "# num_examples = len(features)\n",
    "# print(range(num_examples))\n",
    "# indices = list(range(num_examples))\n",
    "# print(indices)"
   ]
  },
  {
   "attachments": {},
   "cell_type": "markdown",
   "metadata": {},
   "source": [
    "- `data_iter`有`data.DataLoader`替代"
   ]
  },
  {
   "cell_type": "code",
   "execution_count": 15,
   "metadata": {},
   "outputs": [],
   "source": [
    "def data_iter(batch_size,features,labels):\n",
    "    num_examples = len(features)\n",
    "    # indices用来存储所有的样本的索引\n",
    "    # range(num_examples)表示生成从0到num_examples-1\n",
    "    # 不过返回的是一个range对象，所以要list转为列表\n",
    "    indices = list(range(num_examples))\n",
    "    # 打乱样本的索引\n",
    "    # 就可以实现随机读取小批量样本的效果！！！！！！！！！秒！！！！\n",
    "    random.shuffle(indices)\n",
    "    # 从0到num_examples，步长为batch_size\n",
    "    # 每次batch_size取一次，一次取batch_size个样本\n",
    "    for i in range(0,num_examples,batch_size):\n",
    "        # 生成本次要取的样本的索引\n",
    "        # 从indices中取出i到i+batch_size的索引\n",
    "        batch_indices = torch.tensor(\n",
    "            indices[i:min(i+batch_size,num_examples)])\n",
    "        \n",
    "        # 根据索引取出对应的样本\n",
    "\n",
    "        # yield和return都是函数返回\n",
    "        # yield关键字可以实现迭代器的效果，return也可以\n",
    "        # 不过yield是一次次返回一个迭代结果，return是一次性返回\n",
    "        # 其它都一样\n",
    "        \n",
    "        # 会让函数变成一个生成器，间隔返回多次\n",
    "        # 每次迭代返回一个元组，元组中有两个元素，第一个元素是features，第二个元素是labels\n",
    "        yield features[batch_indices],labels[batch_indices]"
   ]
  },
  {
   "attachments": {},
   "cell_type": "markdown",
   "metadata": {},
   "source": [
    "- $∇(af(x) + bg(x)) = a∇f(x) + b∇g(x)$\n",
    "\n",
    "- 这意味着对于两个函数的线性组合，其梯度等于各个函数梯度的线性组合。\n",
    "  - 所以一个batch的所有样本的loss加起来，然后再求梯度没有影响\n",
    "  - 在更新参数时，要总的梯度要除以一下batch_size/或者说累加的样本个数\n",
    "    - 就得到这次要更新的梯度大小了\n",
    "    - 一般在优化器中实现"
   ]
  },
  {
   "cell_type": "code",
   "execution_count": 17,
   "metadata": {},
   "outputs": [
    {
     "name": "stdout",
     "output_type": "stream",
     "text": [
      "tensor([[-0.7651, -0.6104],\n",
      "        [-1.9122, -0.1927],\n",
      "        [-1.8469,  0.0580],\n",
      "        [-1.3669, -0.0158],\n",
      "        [-0.3262, -0.9734],\n",
      "        [-0.2292,  0.7322],\n",
      "        [-0.3754,  1.2383],\n",
      "        [ 0.3689,  2.7600],\n",
      "        [-0.0818, -0.2172],\n",
      "        [ 0.3366, -0.1783]]) \n",
      " tensor([[ 4.7528],\n",
      "        [ 1.0344],\n",
      "        [ 0.2921],\n",
      "        [ 1.5171],\n",
      "        [ 6.8578],\n",
      "        [ 1.2424],\n",
      "        [-0.7674],\n",
      "        [-4.4536],\n",
      "        [ 4.7858],\n",
      "        [ 5.4874]])\n"
     ]
    }
   ],
   "source": [
    "# 测试一下data_iter函数\n",
    "batch_size = 10\n",
    "for X,y in data_iter(batch_size,features,labels):\n",
    "    print(X,'\\n',y)\n",
    "    break # 只打印一次\n"
   ]
  },
  {
   "attachments": {},
   "cell_type": "markdown",
   "metadata": {},
   "source": [
    "- 上面实现的迭代其实效率很低，只是演示很好理解\n",
    "- 框架中的内置迭代器效率要高很多\n",
    "  - 它可以处理存储在文件中的数据和数据流提供的数据\n",
    "  - 从而不用向上面那样把数据全部加载在内存中，干等着被使用"
   ]
  },
  {
   "attachments": {},
   "cell_type": "markdown",
   "metadata": {},
   "source": [
    "## 初始化模型参数\n",
    "- 从均值为0、标准差为0.01的正态分布中采样随机数来初始化权重，\n",
    "并将偏置初始化为0。\n",
    "\n",
    "- **修改一下超参，从新跑的话，需要重新初始化模型参数**"
   ]
  },
  {
   "cell_type": "code",
   "execution_count": 84,
   "metadata": {},
   "outputs": [],
   "source": [
    "w = torch.normal(0,0.01,size=(2,1),requires_grad=True)\n",
    "\n",
    "# 测试w也初始化为0 \n",
    "# w = torch.zeros((2,1), requires_grad=True)\n",
    "b = torch.zeros(1,requires_grad=True)"
   ]
  },
  {
   "attachments": {},
   "cell_type": "markdown",
   "metadata": {},
   "source": [
    "- 我们的任务是更新这些参数，直到这些参数足够拟合我们的数据。\n",
    "  - 每次更新都需要计算损失函数关于模型参数的梯度。\n",
    "  - 有了这个梯度，我们就可以向减小损失的方向更新每个参数。\n",
    "  - 因为手动计算梯度很枯燥而且容易出错，所以没有人会手动计算梯度。\n",
    "    - 使用pytorch的autograd计算梯度"
   ]
  },
  {
   "attachments": {},
   "cell_type": "markdown",
   "metadata": {},
   "source": [
    "## 定义模型\n",
    "- 定义模型的目标是\n",
    "  - **将模型的输入和参数同模型的输出关联起来**\n",
    "\n",
    "- `nn.Linear()`内部的实现其实也就类似思路"
   ]
  },
  {
   "cell_type": "code",
   "execution_count": 19,
   "metadata": {},
   "outputs": [],
   "source": [
    "def linreg(X,w,b):\n",
    "    \"\"\"线性回归模型\"\"\"\n",
    "    return torch.matmul(X,w) + b"
   ]
  },
  {
   "attachments": {},
   "cell_type": "markdown",
   "metadata": {},
   "source": [
    "## 定义损失函数\n",
    "- 需要计算损失函数的梯度\n",
    "  - 所以要先定义损失函数\n",
    "  - 要保证真实值`y`的形状与预测值`y_hat`的形状相同\n",
    "    - 就用了`reshape`函数\n",
    "- 在实际中我们会一个batch所有样本的loss求和，再求梯度\n",
    "  - 因为梯度的性质：函数的线性组合不会对梯度有影响，所以可以求和再求梯度\n",
    "  - 但在更新参数时，要总的梯度要除一下累加的样本个数\n",
    "  - 一般在优化器中实现"
   ]
  },
  {
   "attachments": {},
   "cell_type": "markdown",
   "metadata": {},
   "source": [
    "- `nn.MSELoss()`替代"
   ]
  },
  {
   "cell_type": "code",
   "execution_count": 22,
   "metadata": {},
   "outputs": [],
   "source": [
    "def squared_loss(y_hat,y):\n",
    "    \"\"\"均方损失\"\"\"\n",
    "    return (y_hat - y.reshape(y_hat.shape))**2/2"
   ]
  },
  {
   "attachments": {},
   "cell_type": "markdown",
   "metadata": {},
   "source": [
    "## 定义优化算法\n",
    "\n",
    "- 下面的函数实现小批量随机梯度下降更新。\n",
    "- 该函数接受模型参数集合、学习速率和批量大小作为输入。\n",
    "  - 每一步更新的大小由学习速率`lr`决定。\n",
    "- 用批量大小（`batch_size`）来规范化步长，\n",
    "  - 因为我们计算的损失是一个批量样本的总和，所以我们用批量大小（`batch_size`）来规范化步长，这样步长大小就不会取决于我们对批量大小的选择。"
   ]
  },
  {
   "attachments": {},
   "cell_type": "markdown",
   "metadata": {},
   "source": [
    "- `torch.optim.SGD()`替代\n",
    "- `params`有`net.parameters()`替代"
   ]
  },
  {
   "cell_type": "code",
   "execution_count": 35,
   "metadata": {},
   "outputs": [],
   "source": [
    "# python定义数据类型不需要指定数据类型\n",
    "# params随便是什么类型都可以，因为下面用了迭代，所以只要可以迭代就行\n",
    "def sgd(params,lr,batch_size):\n",
    "    \"\"\"小批量随机梯度下降\"\"\"\n",
    "    # 参数更新不需要记录梯度，所以使用torch.no_grad()\n",
    "    with torch.no_grad():\n",
    "        # 迭代params中的每一个参数\n",
    "        # [w,b]就第一次迭代w，第二次迭代b\n",
    "        # 这里在sgd函数内部可以修改到w,b的值\n",
    "        # 是因为w,b是可变对象，相当于引用传递，所以可以修改到\n",
    "        # 可变对象包括list，dict，set，bytearray\n",
    "        # 不可变对象相当于按值传递，包括int，float，bool，str，tuple，frozenset，bytes\n",
    "        for param in params:\n",
    "            param -= lr * param.grad / batch_size\n",
    "            # 梯度清零\n",
    "            # 这里就放在sgd里面了\n",
    "            param.grad.zero_() \n"
   ]
  },
  {
   "attachments": {},
   "cell_type": "markdown",
   "metadata": {},
   "source": [
    "## 训练\n"
   ]
  },
  {
   "attachments": {},
   "cell_type": "markdown",
   "metadata": {},
   "source": [
    "### 超参数"
   ]
  },
  {
   "attachments": {},
   "cell_type": "markdown",
   "metadata": {},
   "source": [
    "- python\n",
    "  - 调用函数不带括号\n",
    "    - 是对函数地址的存储\n",
    "    - 相当于给函数起个别名来使用\n",
    "  - 带括号\n",
    "    - 是对函数返回值，结果的存储\n",
    "    - 调用的是函数的执行结果，需等待函数执行完毕的结果。"
   ]
  },
  {
   "attachments": {},
   "cell_type": "markdown",
   "metadata": {},
   "source": [
    "- 学习率太大了，就会nan\n",
    "  - Not a number\n",
    "    - 越界，或者除0这些\n",
    "  - 比如这个设置lr=10\n"
   ]
  },
  {
   "cell_type": "code",
   "execution_count": 78,
   "metadata": {},
   "outputs": [],
   "source": [
    "lr = 0.03\n",
    "num_epochs = 3\n",
    "net = linreg\n",
    "loss = squared_loss\n",
    "batch_size=10"
   ]
  },
  {
   "attachments": {},
   "cell_type": "markdown",
   "metadata": {},
   "source": [
    "如果只做了前向传播是不用梯度清零的\n",
    "\n",
    "做了`backward()`计算了梯度，才会累加，需要清零"
   ]
  },
  {
   "cell_type": "code",
   "execution_count": 85,
   "metadata": {},
   "outputs": [
    {
     "name": "stdout",
     "output_type": "stream",
     "text": [
      "epoch 1 ,loss 0.052212\n",
      "epoch 2 ,loss 0.000236\n",
      "epoch 3 ,loss 0.000049\n"
     ]
    }
   ],
   "source": [
    "for epoch in range(num_epochs):\n",
    "    for X,y in data_iter(batch_size,features,labels):\n",
    "        # w,b是初始化的权重和偏差\n",
    "        # X，y是迭代器返回的本次batch的样本，标签\n",
    "        # 传入网络得到预测值\n",
    "        # 预测值和标签传入loss函数得到这个batch的损失\n",
    "        l = loss(net(X,w,b),y)\n",
    "        # l是向量，求和得到标量，再求梯度\n",
    "        l.sum().backward()\n",
    "        # 使用参数的梯度更新参数\n",
    "        # sgd里面做了梯度清零\n",
    "        sgd([w,b],lr,batch_size)\n",
    "    # 每个epoch打印一次损失\n",
    "    with torch.no_grad():\n",
    "        # 用整个数据集计算损失\n",
    "        # loss函数返回的是列表，里面每个值是一个样本的损失\n",
    "        # 这里是只做了前向传播不用梯度清零\n",
    "        train_l = loss(net(features,w,b),labels)\n",
    "        # \":f\"是用于指定浮点数的显示格式，控制浮点数在打印输出时的小数位数。\n",
    "        print(f\"epoch {epoch+1} ,loss {float(train_l.mean()):f}\")"
   ]
  },
  {
   "attachments": {},
   "cell_type": "markdown",
   "metadata": {},
   "source": [
    "- 自定按函数合成的数据集，知道真正的参数是什么\n",
    "  - 可以检验一下"
   ]
  },
  {
   "cell_type": "code",
   "execution_count": 59,
   "metadata": {},
   "outputs": [
    {
     "name": "stdout",
     "output_type": "stream",
     "text": [
      "w的估计误差:tensor([ 0.0004, -0.0012], grad_fn=<SubBackward0>)\n",
      "b的估计误差:tensor([0.0007], grad_fn=<RsubBackward1>)\n"
     ]
    }
   ],
   "source": [
    "print(f\"w的估计误差:{true_w - w.reshape(true_w.shape)}\")\n",
    "print(f\"b的估计误差:{true_b -b}\")"
   ]
  },
  {
   "attachments": {},
   "cell_type": "markdown",
   "metadata": {},
   "source": [
    "- 可看到解决还不错\n",
    "  - 但是有点误差\n",
    "  \n",
    "## 不应该追求能完美求解参数\n",
    "- 因为网络的表征范围内，有很多参数组合能完成任务\n",
    "  "
   ]
  },
  {
   "attachments": {},
   "cell_type": "markdown",
   "metadata": {},
   "source": [
    "## 练习\n",
    "1.如果我们将权重初始化为零，会发生什么。算法仍然有效吗？\n",
    "- 实验来看是有效的\n",
    "  \n",
    "2.如果样本个数不能被批量大小整除，data_iter函数的行为会有什么变化？\n",
    "- 测试了一下，没啥变化\n",
    "  - 具体到函数里其实就是对for循环最后一次取不到batch个值有些影响\n",
    "  - 但python的for循环应该是设计好了不会越界啥的。"
   ]
  }
 ],
 "metadata": {
  "kernelspec": {
   "display_name": "d2l_pytorch",
   "language": "python",
   "name": "d2l_pytorch"
  },
  "language_info": {
   "codemirror_mode": {
    "name": "ipython",
    "version": 3
   },
   "file_extension": ".py",
   "mimetype": "text/x-python",
   "name": "python",
   "nbconvert_exporter": "python",
   "pygments_lexer": "ipython3",
   "version": "3.10.11"
  },
  "orig_nbformat": 4
 },
 "nbformat": 4,
 "nbformat_minor": 2
}
