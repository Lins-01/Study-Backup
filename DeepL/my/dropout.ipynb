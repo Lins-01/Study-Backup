{
 "cells": [
  {
   "cell_type": "code",
   "execution_count": 12,
   "metadata": {},
   "outputs": [],
   "source": [
    "import torch\n",
    "from torch import nn\n",
    "from d2l import torch as d2l\n",
    "\n",
    "\n",
    "def dropout_layer(X, dropout):\n",
    "    assert 0 <= dropout <= 1\n",
    "    # 在本情况中，所有元素都被丢弃\n",
    "    if dropout == 1:\n",
    "        return torch.zeros_like(X)\n",
    "    # 在本情况中，所有元素都被保留\n",
    "    if dropout == 0:\n",
    "        return X\n",
    "\n",
    "    # 在PyTorch中，对一个张量执行比较操作时\n",
    "    # 会生成一个与原始张量形状相同的布尔型张量\n",
    "    # .float()再将其转为数值\n",
    "    mask = (torch.rand(X.shape) > dropout).float()\n",
    "    print(torch.rand(X.shape) )\n",
    "    print(torch.rand(X.shape)>dropout)\n",
    "    print((torch.rand(X.shape)>dropout).float())\n",
    "    return mask * X / (1.0 - dropout)"
   ]
  },
  {
   "cell_type": "code",
   "execution_count": 13,
   "metadata": {},
   "outputs": [
    {
     "name": "stdout",
     "output_type": "stream",
     "text": [
      "tensor([[ 0.,  1.,  2.,  3.,  4.,  5.,  6.,  7.],\n",
      "        [ 8.,  9., 10., 11., 12., 13., 14., 15.]])\n",
      "=======================================\n",
      "tensor([[0.3673, 0.0708, 0.0657, 0.9881, 0.3088, 0.2577, 0.1063, 0.4795],\n",
      "        [0.5264, 0.6689, 0.5795, 0.1162, 0.5276, 0.5697, 0.6639, 0.8532]])\n",
      "tensor([[False, False, False, False, False, False, False,  True],\n",
      "        [False,  True,  True,  True,  True, False, False, False]])\n",
      "tensor([[0., 0., 0., 0., 1., 1., 1., 0.],\n",
      "        [0., 0., 1., 1., 0., 0., 1., 0.]])\n",
      "tensor([[ 0.,  0.,  4.,  6.,  8., 10., 12.,  0.],\n",
      "        [16.,  0., 20.,  0.,  0.,  0., 28., 30.]])\n",
      "=======================================\n",
      "tensor([[ 0.,  1.,  2.,  3.,  4.,  5.,  6.,  7.],\n",
      "        [ 8.,  9., 10., 11., 12., 13., 14., 15.]])\n",
      "=======================================\n",
      "tensor([[0., 0., 0., 0., 0., 0., 0., 0.],\n",
      "        [0., 0., 0., 0., 0., 0., 0., 0.]])\n"
     ]
    }
   ],
   "source": [
    "X = torch.arange(16,dtype=torch.float32).reshape(2,8)\n",
    "print(X)\n",
    "print('=======================================')\n",
    "print(dropout_layer(X,0.5))\n",
    "print('=======================================')\n",
    "print(dropout_layer(X,0))\n",
    "print('=======================================')\n",
    "print(dropout_layer(X,1))\n"
   ]
  }
 ],
 "metadata": {
  "kernelspec": {
   "display_name": "d2l_pytorch",
   "language": "python",
   "name": "d2l_pytorch"
  },
  "language_info": {
   "codemirror_mode": {
    "name": "ipython",
    "version": 3
   },
   "file_extension": ".py",
   "mimetype": "text/x-python",
   "name": "python",
   "nbconvert_exporter": "python",
   "pygments_lexer": "ipython3",
   "version": "3.10.11"
  },
  "orig_nbformat": 4
 },
 "nbformat": 4,
 "nbformat_minor": 2
}
