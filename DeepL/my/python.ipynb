{
 "cells": [
  {
   "cell_type": "code",
   "execution_count": 2,
   "metadata": {},
   "outputs": [
    {
     "name": "stdout",
     "output_type": "stream",
     "text": [
      "我的名字是lins.\n"
     ]
    }
   ],
   "source": [
    "name='lins'\n",
    "print(\"我的名字是%s.\" %name)"
   ]
  },
  {
   "cell_type": "code",
   "execution_count": 3,
   "metadata": {},
   "outputs": [
    {
     "name": "stdout",
     "output_type": "stream",
     "text": [
      "你的名字是1.\n",
      "你好! 1\n",
      "你好！ {name}\n",
      "幸会！ 1\n",
      "==========\n"
     ]
    }
   ],
   "source": [
    "name=input(\"请输入你的名字：\")\n",
    "print(\"你的名字是%s.\" %name)\n",
    "print(f\"你好! {name}\")\n",
    "print(\"你好！ {name}\")\n",
    "print('幸会！',name)\n",
    "print('='*10)"
   ]
  },
  {
   "cell_type": "code",
   "execution_count": 4,
   "metadata": {},
   "outputs": [
    {
     "name": "stdout",
     "output_type": "stream",
     "text": [
      "3\n"
     ]
    }
   ],
   "source": [
    "pi=3.12\n",
    "pi=int(pi)\n",
    "print(pi)"
   ]
  },
  {
   "cell_type": "code",
   "execution_count": 5,
   "metadata": {},
   "outputs": [
    {
     "name": "stdout",
     "output_type": "stream",
     "text": [
      "1.5\n"
     ]
    }
   ],
   "source": [
    "print(3/2)"
   ]
  },
  {
   "cell_type": "code",
   "execution_count": 6,
   "metadata": {},
   "outputs": [
    {
     "name": "stdout",
     "output_type": "stream",
     "text": [
      "h\n",
      "e\n",
      "l\n",
      "l\n",
      "o\n",
      "操场跑圈...0\n",
      "操场跑圈...1\n",
      "操场跑圈...2\n",
      "操场跑圈...3\n",
      "操场跑圈...4\n",
      "3\n",
      "4\n",
      "5\n",
      "6\n",
      "1\n",
      "3\n",
      "5\n",
      "7\n",
      "9\n"
     ]
    }
   ],
   "source": [
    "for i in 'hello': # h e l l o\n",
    "    # i 一次循环就是字符串中的一个字符\n",
    "    print(i)\n",
    "\n",
    "# range(n) 生成[0,n)的整数序列，不包含n\n",
    "for i in range(5): # 0,1,2,3,4\n",
    "    print(f'操场跑圈...{i}')\n",
    "\n",
    "# 生成[3,7)的整数序列\n",
    "for i in range(3,7): # 3,4,5,6\n",
    "    print(i)\n",
    "\n",
    "# 还可以选择步长 range(a,b,step)\n",
    "for i in range(1,10,2): # 1,3,5,7,9\n",
    "    print(i)\n",
    "\n",
    "\n",
    "# 不能用c语言的for循环"
   ]
  },
  {
   "cell_type": "code",
   "execution_count": 7,
   "metadata": {},
   "outputs": [
    {
     "name": "stdout",
     "output_type": "stream",
     "text": [
      "h_e_l_l_o\n",
      "hello_world_python\n"
     ]
    }
   ],
   "source": [
    "my_str='_'.join('hello')\n",
    "print(my_str) # h_e_l_l_o\n",
    "\n",
    "list = ['hello', 'world', 'python']\n",
    "print('_'.join(list)) # hello_world_python"
   ]
  },
  {
   "cell_type": "code",
   "execution_count": 8,
   "metadata": {},
   "outputs": [
    {
     "name": "stdout",
     "output_type": "stream",
     "text": [
      "-1\n",
      "0\n",
      "1\n"
     ]
    }
   ],
   "source": [
    "my_str = 'hello_world_python'\n",
    "print(my_str.find('hellp'))# 0\n",
    "print(my_str.index('hello'))# 0\n",
    "print(my_str.count('hello'))"
   ]
  },
  {
   "cell_type": "code",
   "execution_count": 9,
   "metadata": {},
   "outputs": [
    {
     "name": "stdout",
     "output_type": "stream",
     "text": [
      "hello python itheima and itcastcapp\n",
      "hello python itheima and itheimacapp\n"
     ]
    }
   ],
   "source": [
    "my_str = 'hello python itcast and itcastcapp'\n",
    "my_str1 = my_str.replace( 'itcast', 'itheima' ,1)\n",
    "my_str2 = my_str.replace( 'itcast','itheima' )\n",
    "print(my_str1 , my_str2 , sep='\\n')\n"
   ]
  },
  {
   "cell_type": "code",
   "execution_count": 10,
   "metadata": {},
   "outputs": [
    {
     "name": "stdout",
     "output_type": "stream",
     "text": [
      "['hello', 'python', 'itcast', 'and', 'itcastcapp']\n",
      "['hello python ', ' and ', 'capp']\n",
      "['hello python ', ' and itcastcapp']\n",
      "['hello python itcast and ', 'capp']\n"
     ]
    }
   ],
   "source": [
    "my_str = 'hello python itcast and itcastcapp'\n",
    "print(my_str.split()) # ['hello', 'python', 'itcast', 'and', 'itcastcapp']\n",
    "print(my_str.split('itcast'))# ['hello python ', ' and ', 'capp']\n",
    "print(my_str.split('itcast',1))# ['hello python ', ' and itcastcapp']\n",
    "print(my_str.rsplit('itcast',1))# ['hello python itcast and ', 'capp']\n"
   ]
  },
  {
   "cell_type": "code",
   "execution_count": 11,
   "metadata": {},
   "outputs": [
    {
     "data": {
      "text/plain": [
       "'HELLO PYTHON'"
      ]
     },
     "execution_count": 11,
     "metadata": {},
     "output_type": "execute_result"
    }
   ],
   "source": [
    "my_str = 'hello python'\n",
    "my_str.capitalize() # 字符串首字母大写\n",
    "\n",
    "a = 'hello python'\n",
    "a.title() # 字符串每个单词首字母大写\n",
    "\n",
    "a.startswith('hello') # 检查开头是不是hello，返回true/false\n",
    "\n",
    "a.endswith('python') # 检查结尾是不是python，返回true/false\n",
    "\n",
    "a.lower() # 全部小写\n",
    "\n",
    "a.upper() # 全部大写\n"
   ]
  },
  {
   "cell_type": "code",
   "execution_count": 12,
   "metadata": {},
   "outputs": [
    {
     "name": "stdout",
     "output_type": "stream",
     "text": [
      "niko\n",
      "jack\n",
      "simple\n"
     ]
    }
   ],
   "source": [
    "name_list = ['niko','jack','simple']\n",
    "for name in name_list:\n",
    "    print(name)# niko jack simple"
   ]
  },
  {
   "cell_type": "code",
   "execution_count": 13,
   "metadata": {},
   "outputs": [
    {
     "name": "stdout",
     "output_type": "stream",
     "text": [
      "['niko', 'jack', 'simple', 'lins', 12]\n"
     ]
    }
   ],
   "source": [
    "list = ['niko','jack','simple']\n",
    "list.append('lins') # ['niko', 'jack', 'simple', 'lins']\n",
    "\n",
    "res = list.append(12) # res = None\n",
    "# append直接在字符串末尾追加，不会有返回值\n",
    "\n",
    "print(list)# ['niko', 'jack', 'simple', 'lins', 12]\n"
   ]
  },
  {
   "cell_type": "code",
   "execution_count": 14,
   "metadata": {},
   "outputs": [
    {
     "name": "stdout",
     "output_type": "stream",
     "text": [
      "['zywoo', 'niko', 'jack', 'simple', 'lins', 12]\n",
      "None\n"
     ]
    }
   ],
   "source": [
    "list.insert(0,'zywoo')\n",
    "print(list) # ['zywoo', 'niko', 'jack', 'simple', 'lins', 12]\n",
    "\n",
    "print(list.insert(4,'num')) # None\n",
    "#不能这么写，因为不返回值"
   ]
  },
  {
   "cell_type": "code",
   "execution_count": 15,
   "metadata": {},
   "outputs": [],
   "source": [
    "list = ['niko','jack','simple']\n",
    "list.extend('llo') # ['niko', 'jack', 'simple', 'l', 'l', 'o']\n",
    "# extend会将字符串拆分成单个字符，然后追加到列表中\n",
    "\n",
    "list.extend([1,'python',3]) # ['niko', 'jack', 'simple', 1, 'python', 3]\n"
   ]
  },
  {
   "cell_type": "code",
   "execution_count": 16,
   "metadata": {},
   "outputs": [],
   "source": [
    "list = ['niko','jack',2]\n",
    "num = list.index('jack') # 1\n"
   ]
  },
  {
   "cell_type": "code",
   "execution_count": 17,
   "metadata": {},
   "outputs": [],
   "source": [
    "\n",
    "list = ['niko','jack',2]\n",
    "num = list.count(2) # 1"
   ]
  },
  {
   "cell_type": "code",
   "execution_count": 18,
   "metadata": {},
   "outputs": [],
   "source": [
    "list = [1, 2, 3, 4, 5, 6]\n",
    "list.remove(4)# [1, 2, 3, 5, 6]\n",
    "# remove会将列表中第一个出现的4删除\n",
    "# 不存在则报错"
   ]
  },
  {
   "cell_type": "code",
   "execution_count": 19,
   "metadata": {},
   "outputs": [
    {
     "name": "stdout",
     "output_type": "stream",
     "text": [
      "6\n",
      "[1, 2, 3, 4, 5]\n",
      "3\n",
      "[1, 2, 4, 5]\n",
      "[1, 4, 5]\n"
     ]
    }
   ],
   "source": [
    "list = [1, 2, 3, 4, 5, 6]\n",
    "num = list.pop()\n",
    "print(num) # 6\n",
    "print(list) # [1, 2, 3, 4, 5]\n",
    "\n",
    "num = list.pop(2)\n",
    "print(num) # 3\n",
    "print(list) # [1, 2, 4, 5]\n",
    "\n",
    "del list[1]\n",
    "print(list) # [1, 4, 5]"
   ]
  },
  {
   "cell_type": "code",
   "execution_count": 20,
   "metadata": {},
   "outputs": [
    {
     "name": "stdout",
     "output_type": "stream",
     "text": [
      "[0, 1, 1, 2, 5, 6]\n",
      "[6, 5, 2, 1, 1, 0]\n"
     ]
    }
   ],
   "source": [
    "list=[1,5,2,6,0,1]\n",
    "list.sort()\n",
    "print(list)# [0, 1, 1, 2, 5, 6]\n",
    "\n",
    "list.sort(reverse=True)\n",
    "print(list)# [6, 5, 2, 1, 1, 0]"
   ]
  },
  {
   "cell_type": "code",
   "execution_count": 21,
   "metadata": {},
   "outputs": [
    {
     "name": "stdout",
     "output_type": "stream",
     "text": [
      "[0, 1, 1, 2, 5, 6]\n",
      "[6, 5, 2, 1, 1, 0]\n"
     ]
    }
   ],
   "source": [
    "list=[1,5,2,6,0,1]\n",
    "list.sort()\n",
    "print(list)# [0, 1, 1, 2, 5, 6]\n",
    "\n",
    "list1=list[::-1]\n",
    "print(list1) # [6, 5, 2, 1, 1, 0]"
   ]
  },
  {
   "cell_type": "code",
   "execution_count": 22,
   "metadata": {},
   "outputs": [
    {
     "name": "stdout",
     "output_type": "stream",
     "text": [
      "('et', 77, 3.14)\n"
     ]
    }
   ],
   "source": [
    "tuple = ('et',77,3.14)\n",
    "print(tuple) # ('et', 77, 3.14)"
   ]
  },
  {
   "cell_type": "code",
   "execution_count": 23,
   "metadata": {},
   "outputs": [
    {
     "name": "stdout",
     "output_type": "stream",
     "text": [
      "{'name': 'lins', 'age': 18, 'like': ['学习', '购物', '运动'], 1: [2, 5, 8]}\n",
      "18\n",
      "购物\n"
     ]
    }
   ],
   "source": [
    "dict2 = {'name':'lins','age':18,'like':['学习','购物','运动'],1:[2,5,8]}\n",
    "print(dict2)\n",
    "print(dict2['age'])\n",
    "print(dict2['like'][1])"
   ]
  },
  {
   "cell_type": "code",
   "execution_count": 24,
   "metadata": {},
   "outputs": [
    {
     "name": "stdout",
     "output_type": "stream",
     "text": [
      "{'name': 'lins', 1: 'int'}\n",
      "{'name': 'lins', 1: 'float'}\n"
     ]
    }
   ],
   "source": [
    "dict={'name':'lins'}\n",
    "dict[1]='int'\n",
    "print(dict) # {'name': 'lins', 1: 'int'}\n",
    "dict[1.0]='float'\n",
    "print(dict) # {'name': 'lins', 1: 'float'}"
   ]
  },
  {
   "cell_type": "code",
   "execution_count": 25,
   "metadata": {},
   "outputs": [
    {
     "name": "stdout",
     "output_type": "stream",
     "text": [
      "name\n",
      "name lins\n",
      "age\n",
      "age 18\n",
      "w\n",
      "w 18\n"
     ]
    }
   ],
   "source": [
    "dict = {'name': 'lins', 'age': '18', 'w': 18}\n",
    "for i in dict:\n",
    "    print(i) # name age w\n",
    "    print(i,dict[i]) # name lins age 18 w 18"
   ]
  },
  {
   "cell_type": "code",
   "execution_count": 26,
   "metadata": {},
   "outputs": [
    {
     "name": "stdout",
     "output_type": "stream",
     "text": [
      "dict_keys(['name', 'age', 'w'])\n",
      "lins\n",
      "18\n",
      "18\n",
      "dict_keys(['name', 'age', 'w']) <class 'dict_keys'>\n"
     ]
    }
   ],
   "source": [
    "dict = {'name': 'lins', 'age': '18', 'w': 18}\n",
    "res = dict.keys()\n",
    "print(res) # dict_keys(['name', 'age', 'w'])\n",
    "for k in res:\n",
    "    print(dict[k])# lins 18 18\n",
    "\n",
    "print(res,type(res))# dict_keys(['name', 'age', 'w']) <class 'dict_keys'>"
   ]
  },
  {
   "cell_type": "code",
   "execution_count": 27,
   "metadata": {},
   "outputs": [
    {
     "name": "stdout",
     "output_type": "stream",
     "text": [
      "dict_values(['lins', '18', 18])\n"
     ]
    }
   ],
   "source": [
    "res=dict.values()\n",
    "print(res) # dict_values(['lins', '18', 18])\n",
    "#print(type(list(res))) # <class 'list'>\n",
    "#报错TypeError: 'list' object is not callable\n",
    "#因为上面有变量叫list "
   ]
  },
  {
   "cell_type": "code",
   "execution_count": 28,
   "metadata": {},
   "outputs": [
    {
     "name": "stdout",
     "output_type": "stream",
     "text": [
      "dict_items([('name', 'lins'), ('age', '18'), ('w', 18)])\n",
      "('name', 'lins')\n",
      "name lins\n",
      "('age', '18')\n",
      "age 18\n",
      "('w', 18)\n",
      "w 18\n",
      "name : lins age : 18 w : 18 "
     ]
    }
   ],
   "source": [
    "res2=dict.items()#key和value组成的元组\n",
    "print(res2)# dict_items([('name', 'lins'), ('age', '18'), ('w', 18)])\n",
    "for item in res2:\n",
    "    print(item)# ('name', 'lins') ('age', '18') ('w', 18)\n",
    "    print(item[0],item[1])# name lins age 18 w 18\n",
    "\n",
    "for k,v in res2:\n",
    "    print(k,':',v,end=' ')# name lins age 18 w 18"
   ]
  },
  {
   "cell_type": "code",
   "execution_count": 29,
   "metadata": {},
   "outputs": [
    {
     "name": "stdout",
     "output_type": "stream",
     "text": [
      "Help on function func in module __main__:\n",
      "\n",
      "func()\n",
      "    打印一个hello world\n",
      "\n",
      "Help on built-in function print in module builtins:\n",
      "\n",
      "print(...)\n",
      "    print(value, ..., sep=' ', end='\\n', file=sys.stdout, flush=False)\n",
      "    \n",
      "    Prints the values to a stream, or to sys.stdout by default.\n",
      "    Optional keyword arguments:\n",
      "    file:  a file-like object (stream); defaults to the current sys.stdout.\n",
      "    sep:   string inserted between values, default a space.\n",
      "    end:   string appended after the last value, default a newline.\n",
      "    flush: whether to forcibly flush the stream.\n",
      "\n"
     ]
    }
   ],
   "source": [
    "def func():\n",
    "    \"\"\"\n",
    "    打印一个hello world\n",
    "    \"\"\"\n",
    "    print('hello world')\n",
    "\n",
    "\n",
    "help(func)# 打印函数的注释\n",
    "help(print)"
   ]
  },
  {
   "cell_type": "code",
   "execution_count": 30,
   "metadata": {},
   "outputs": [],
   "source": [
    "my_list = [1 , 2, 3] #全局变量\n",
    "def func():\n",
    "    global my_list \n",
    "    my_list.append(4)# 修改全局变量的值"
   ]
  },
  {
   "cell_type": "code",
   "execution_count": 31,
   "metadata": {},
   "outputs": [
    {
     "name": "stdout",
     "output_type": "stream",
     "text": [
      "a+b的结果是15,a-b的结果是5\n"
     ]
    }
   ],
   "source": [
    "def func(a,b):\n",
    "    c=a+b\n",
    "    d=a-b\n",
    "    return c,d\n",
    "\n",
    "res=func(10,5)\n",
    "print(f'a+b的结果是{res[0]},a-b的结果是{res[1]}')\n",
    "# a+b的结果是15,a-b的结果是5"
   ]
  },
  {
   "cell_type": "code",
   "execution_count": 32,
   "metadata": {},
   "outputs": [
    {
     "name": "stdout",
     "output_type": "stream",
     "text": [
      "[[1, 2, 3, 4, 5, 6], [1, 2, 3, 4, 5, 6], [1, 2, 3, 4, 5, 6], [1, 2, 3, 4, 5, 6], [1, 2, 3, 4, 5, 6], [1, 2, 3, 4, 5, 6]]\n"
     ]
    }
   ],
   "source": [
    "my_list = []#先创建一个主列表\n",
    "for i in range(6):#循环遍历6次，依次为主列表的每个元素创建新的列表\n",
    "    j = []#先创建新列表并添加入主列表中\n",
    "    \n",
    "    for m in range(1,7):\n",
    "        j.append(m)#为子列表添加元素\n",
    "    my_list.append(j)\n",
    "print(my_list)#输出"
   ]
  },
  {
   "cell_type": "code",
   "execution_count": 33,
   "metadata": {},
   "outputs": [
    {
     "name": "stdout",
     "output_type": "stream",
     "text": [
      "swap函数里，a元素的值是 9 ；b元素的值是 6\n",
      "交换结束后，a元素的值是 9 ；b元素的值是 6\n"
     ]
    }
   ],
   "source": [
    "def swap(dw):\n",
    "    # 下面代码实现dw的a、b两个元素的值交换\n",
    "    dw['a'], dw['b'] = dw['b'], dw['a']\n",
    "    print(\"swap函数里，a元素的值是\",\\\n",
    "        dw['a'], \"；b元素的值是\", dw['b'])\n",
    "dw = {'a': 6, 'b': 9}\n",
    "swap(dw)\n",
    "print(\"交换结束后，a元素的值是\",\\\n",
    "    dw['a'], \"；b元素的值是\", dw['b'])"
   ]
  },
  {
   "cell_type": "code",
   "execution_count": 34,
   "metadata": {},
   "outputs": [
    {
     "name": "stdout",
     "output_type": "stream",
     "text": [
      "1 2 3\n",
      "1 2 3\n",
      "1 2 3\n"
     ]
    }
   ],
   "source": [
    "def func(a,b,c):\n",
    "    print(a,b,c)\n",
    "\n",
    "# 位置传参\n",
    "func(1,2,3)\n",
    "\n",
    "# 关键字传参\n",
    "func(a=1,b=2,c=3)\n",
    "\n",
    "# 混合使用\n",
    "func(1,b=2,c=3)"
   ]
  },
  {
   "cell_type": "code",
   "execution_count": 35,
   "metadata": {},
   "outputs": [
    {
     "name": "stdout",
     "output_type": "stream",
     "text": [
      "(1, 2, 3, 4, 5, 6, 75, 28)\n",
      "{}\n",
      "(1, 5, 6)\n",
      "{'a': 1, 'g': 7, 'h': 8, 'i': 9, 'j': 0}\n",
      "(1, 2, 3)\n",
      "{'a': 4, 'b': 5, 'c': 6}\n"
     ]
    }
   ],
   "source": [
    "def func(*argc , **kwargs):\n",
    "    print(argc)\n",
    "    print(kwargs)\n",
    "\n",
    "func(1,2,3,4,5,6,75,28)\n",
    "func(1,5,6,a=1,g=7,h=8,i=9,j=0)\n",
    "func(1,2,3,a=4,b=5,c=6)"
   ]
  },
  {
   "cell_type": "code",
   "execution_count": 36,
   "metadata": {},
   "outputs": [
    {
     "name": "stdout",
     "output_type": "stream",
     "text": [
      "(1, 2, 3)\n",
      "1 2 3\n",
      "1 2\n",
      "10 20\n",
      "name age\n"
     ]
    }
   ],
   "source": [
    "a=1,2,3\n",
    "print(a) # (1, 2, 3)\n",
    "\n",
    "def func():\n",
    "    return 1,2 #返回的是元组，其实也叫组包\n",
    "\n",
    "b ,c,d=a # 拆包\n",
    "print(b,c,d) # 1 2 3\n",
    "\n",
    "e,f =func()\n",
    "print(e,f) # 1 2\n",
    "\n",
    "my_list = [10,20]\n",
    "a ,b =my_list\n",
    "print(a,b) # 10 20\n",
    "\n",
    "my_dict={'name':'lins','age':18}\n",
    "a,b=my_dict # 默认是key\n",
    "print(a,b) # name age"
   ]
  },
  {
   "cell_type": "code",
   "execution_count": 37,
   "metadata": {},
   "outputs": [
    {
     "name": "stdout",
     "output_type": "stream",
     "text": [
      "1923025601040 1923025601040\n"
     ]
    }
   ],
   "source": [
    "a =10\n",
    "b =10\n",
    "print(id(a),id(b))# 1407090896 1407090896"
   ]
  },
  {
   "cell_type": "code",
   "execution_count": 38,
   "metadata": {},
   "outputs": [
    {
     "name": "stdout",
     "output_type": "stream",
     "text": [
      "{1, (1, 2), 3.14, 'hello'}\n"
     ]
    }
   ],
   "source": [
    "my_set={1,3.14,True,'hello',(1,2)}\n",
    "print(my_set)# {1, 3.14, 'hello', (1, 2)}"
   ]
  },
  {
   "cell_type": "code",
   "execution_count": 39,
   "metadata": {},
   "outputs": [
    {
     "name": "stdout",
     "output_type": "stream",
     "text": [
      "3.140\n",
      "3.140\n",
      "     1\n",
      "     1\n",
      "000001\n",
      "000001\n"
     ]
    }
   ],
   "source": [
    "#浮点数控制输出\n",
    "num=3.14\n",
    "print(\"%.3f\"%num) # 3.140\n",
    "#f\"{变量:.nf}\"  即可 保留n位小数  \n",
    "print(f\"{num:.3f}\") # 3.140\n",
    "\n",
    "#整数控制输出\n",
    "num1=1\n",
    "print('%6d'%num1)\n",
    "print(f'{num1:6}') # 两种方式都是在数字前面补空格\n",
    "\n",
    "print('%06d'%num1)\n",
    "print(f'{num1:06d}') # 两种方式都是在数字前面补0"
   ]
  },
  {
   "cell_type": "code",
   "execution_count": 40,
   "metadata": {},
   "outputs": [
    {
     "name": "stdout",
     "output_type": "stream",
     "text": [
      "[0, 1, 2, 3, 4]\n",
      "['hello', 'hello', 'hello', 'hello', 'hello']\n",
      "['num:0', 'num:1', 'num:2', 'num:3', 'num:4']\n",
      "[0, 2, 4, 6, 8]\n",
      "{'name0': 1, 'name1': 2, 'name2': 3, 'name3': 4, 'name4': 5}\n"
     ]
    }
   ],
   "source": [
    "my_list = [i for i in range(5) ]\n",
    "print(my_list) # [0, 1, 2, 3, 4]\n",
    "\n",
    "my_list1=['hello' for i in range(5)]\n",
    "print(my_list1) # ['hello', 'hello', 'hello', 'hello', 'hello']\n",
    "\n",
    "my_list2=[f'num:{i}' for i in my_list]\n",
    "print(my_list2)# ['num:0', 'num:1', 'num:2', 'num:3', 'num:4']\n",
    "\n",
    "my_list3=[i+i for i in range(5)]\n",
    "print(my_list3) # [0, 2, 4, 6, 8]\n",
    "\n",
    "# 生成偶数列表\n",
    "# 每循环一次，并且if条件成立，就把i添加到列表中\n",
    "my_list4=[i for i in range(5) if i%2==0]\n",
    "# [0, 2, 4]\n",
    "\n",
    "\n",
    "# 字典推导式\n",
    "my_dict={f'name{i}':i+1 for i in range(5)}\n",
    "print(my_dict) # {'name0': 1, 'name1': 2, 'name2': 3, 'name3': 4, 'name4': 5}"
   ]
  },
  {
   "cell_type": "code",
   "execution_count": 41,
   "metadata": {},
   "outputs": [
    {
     "name": "stdout",
     "output_type": "stream",
     "text": [
      "str方法被调用\n",
      "名字是大黄,年龄是25\n",
      "str方法被调用\n",
      "名字是大黄,年龄是25\n"
     ]
    }
   ],
   "source": [
    "class Dog(object):\n",
    "    def __init__(self,name,age):\n",
    "        self.name=name\n",
    "        self.age=age\n",
    "    \n",
    "    def __str__(self):\n",
    "        print('str方法被调用')\n",
    "        # 必须有一个返回值\n",
    "        return f'名字是{self.name},年龄是{self.age}'\n",
    "\n",
    "dog = Dog('大黄',25)\n",
    "print(dog) # 名字是大黄,年龄是25\n",
    "\n",
    "str_dog=str(dog)\n",
    "print(str_dog) # 名字是大黄,年龄是25"
   ]
  },
  {
   "cell_type": "code",
   "execution_count": 45,
   "metadata": {},
   "outputs": [
    {
     "data": {
      "text/plain": [
       "tensor([[[[0.9345, 0.9777, 0.2351, 0.8583, 0.3722],\n",
       "          [0.9001, 0.8184, 0.9137, 0.3653, 0.8079],\n",
       "          [0.9646, 0.3381, 0.4489, 0.0250, 0.5650],\n",
       "          [0.1322, 0.7804, 0.1901, 0.7606, 0.6334]],\n",
       "\n",
       "         [[0.9923, 0.8551, 0.9180, 0.9270, 0.3838],\n",
       "          [0.0663, 0.6156, 0.2643, 0.4405, 0.2417],\n",
       "          [0.8118, 0.4391, 0.3883, 0.0703, 0.0265],\n",
       "          [0.2647, 0.2097, 0.8588, 0.0820, 0.6712]],\n",
       "\n",
       "         [[0.9791, 0.9408, 0.0636, 0.3936, 0.0101],\n",
       "          [0.7671, 0.3573, 0.2780, 0.7989, 0.3004],\n",
       "          [0.2484, 0.2179, 0.4639, 0.0886, 0.9560],\n",
       "          [0.5338, 0.3119, 0.5136, 0.8149, 0.6213]]],\n",
       "\n",
       "\n",
       "        [[[0.8705, 0.4637, 0.8116, 0.5878, 0.2474],\n",
       "          [0.9053, 0.9993, 0.0778, 0.1423, 0.6732],\n",
       "          [0.3840, 0.8447, 0.6882, 0.4807, 0.1513],\n",
       "          [0.4710, 0.9142, 0.3294, 0.1746, 0.3979]],\n",
       "\n",
       "         [[0.3690, 0.9090, 0.8670, 0.4170, 0.0591],\n",
       "          [0.1814, 0.6460, 0.4403, 0.6319, 0.8238],\n",
       "          [0.3297, 0.7609, 0.1605, 0.3395, 0.6364],\n",
       "          [0.9514, 0.1154, 0.6759, 0.9178, 0.5307]],\n",
       "\n",
       "         [[0.5691, 0.0650, 0.6008, 0.6084, 0.7818],\n",
       "          [0.9472, 0.5255, 0.5089, 0.7244, 0.6057],\n",
       "          [0.2260, 0.2148, 0.7360, 0.4963, 0.2059],\n",
       "          [0.8489, 0.8432, 0.4759, 0.4661, 0.4518]]]])"
      ]
     },
     "execution_count": 45,
     "metadata": {},
     "output_type": "execute_result"
    }
   ],
   "source": [
    "import torch\n",
    "torch.rand([2,3,4,5])"
   ]
  }
 ],
 "metadata": {
  "kernelspec": {
   "display_name": "d2l_pytorch",
   "language": "python",
   "name": "d2l_pytorch"
  },
  "language_info": {
   "codemirror_mode": {
    "name": "ipython",
    "version": 3
   },
   "file_extension": ".py",
   "mimetype": "text/x-python",
   "name": "python",
   "nbconvert_exporter": "python",
   "pygments_lexer": "ipython3",
   "version": "3.10.11"
  },
  "orig_nbformat": 4
 },
 "nbformat": 4,
 "nbformat_minor": 2
}
